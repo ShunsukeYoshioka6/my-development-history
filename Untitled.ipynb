{
 "cells": [
  {
   "cell_type": "code",
   "id": "3f633b38-4dac-4892-811b-5af8f1fc1ca7",
   "metadata": {
    "ExecuteTime": {
     "end_time": "2025-02-25T04:54:06.408828Z",
     "start_time": "2025-02-25T04:54:06.396503Z"
    }
   },
   "source": [
    "print(\"HelloWorld\")"
   ],
   "outputs": [
    {
     "name": "stdout",
     "output_type": "stream",
     "text": [
      "HelloWorld\n"
     ]
    }
   ],
   "execution_count": 1
  },
  {
   "cell_type": "code",
   "id": "527c5648-6e6a-4518-8d6a-5aadc7850f8e",
   "metadata": {
    "ExecuteTime": {
     "end_time": "2025-02-25T04:55:16.296609Z",
     "start_time": "2025-02-25T04:55:16.289036Z"
    }
   },
   "source": "print(\"Hello JupiterLab\")",
   "outputs": [
    {
     "name": "stdout",
     "output_type": "stream",
     "text": [
      "Hello JupiterLab\n"
     ]
    }
   ],
   "execution_count": 2
  }
 ],
 "metadata": {
  "kernelspec": {
   "display_name": "Python 3 (ipykernel)",
   "language": "python",
   "name": "python3"
  },
  "language_info": {
   "codemirror_mode": {
    "name": "ipython",
    "version": 3
   },
   "file_extension": ".py",
   "mimetype": "text/x-python",
   "name": "python",
   "nbconvert_exporter": "python",
   "pygments_lexer": "ipython3",
   "version": "3.11.5"
  }
 },
 "nbformat": 4,
 "nbformat_minor": 5
}
